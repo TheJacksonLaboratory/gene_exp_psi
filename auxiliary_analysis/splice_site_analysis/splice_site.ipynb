{
 "cells": [
  {
   "cell_type": "markdown",
   "id": "82f3809f",
   "metadata": {},
   "source": [
    "<h1>Splice site analysis</h1>\n",
    "<p>to do</p>."
   ]
  },
  {
   "cell_type": "code",
   "execution_count": null,
   "id": "64b9e6bb",
   "metadata": {},
   "outputs": [],
   "source": [
    "from fasta import FASTA\n",
    "from csv import DictReader\n",
    "from collections import defaultdict\n",
    "import os"
   ]
  },
  {
   "cell_type": "markdown",
   "id": "57c842c2",
   "metadata": {},
   "source": [
    "<h3>Data<.h3>\n"
   ]
  },
  {
   "cell_type": "code",
   "execution_count": null,
   "id": "977fde73",
   "metadata": {},
   "outputs": [],
   "source": [
    "hg38 = \"/home/peter/data/hg38/GRCH_38.fa\""
   ]
  },
  {
   "cell_type": "code",
   "execution_count": null,
   "id": "dbdcaf35",
   "metadata": {},
   "outputs": [],
   "source": [
    "exons = \"exons_tab.txt\""
   ]
  },
  {
   "cell_type": "code",
   "execution_count": null,
   "id": "0b1c1406",
   "metadata": {},
   "outputs": [],
   "source": [
    "if not os.path.isfile(exons):\n",
    "    raise FileNotFoundError(f\"Could not find exons_tab\")\n",
    "if not os.path.isfile(hg38):\n",
    "    raise FileNotFoundError(f\"Could not find HG 38 genomes file at {hg38}\")"
   ]
  },
  {
   "cell_type": "code",
   "execution_count": null,
   "id": "c6d814b8",
   "metadata": {},
   "outputs": [],
   "source": [
    "class Exon:\n",
    "\n",
    "    def __init__(self, row) -> None:\n",
    "        self.name = row[\"Name\"]\n",
    "        self.chr = row[\"Chr\"]\n",
    "        self.start = int(row[\"Start\"])\n",
    "        self.end = int(row[\"End\"])\n",
    "        if \"+\" in self.name:\n",
    "            self.strand = \"+\"\n",
    "        elif \"-\" in self.name:\n",
    "            self.strand = \"-\"\n",
    "        else:\n",
    "            raise ValueError(f\"Malformed name {self.name}\")\n",
    "        self.seq5 = None\n",
    "        self.seq3 = None\n",
    "\n",
    "           \n",
    "\n",
    "    def chrom(self):\n",
    "        return f\"chr{self.chr}\"\n",
    "\n",
    "    def get_start(self):\n",
    "        return self.start - 1\n",
    "\n",
    "    def get_end(self):\n",
    "        return self.end\n",
    "\n",
    "    def get_strand(self):\n",
    "        return self.strand\n",
    "\n",
    "    def is_pos_strand(self):\n",
    "        return self.strand == \"+\"\n",
    "    \n",
    "    def set_seq5(self, seq):\n",
    "        self.seq5 = seq\n",
    "        \n",
    "    def set_seq3(self):\n",
    "        self.seq3 = seq"
   ]
  },
  {
   "cell_type": "code",
   "execution_count": null,
   "id": "bc59ae2c",
   "metadata": {},
   "outputs": [],
   "source": [
    "exon_list = []\n",
    "\n",
    "with open(exons) as f:\n",
    "    exon_names = set()\n",
    "    reader = DictReader(f, delimiter=\"\\t\")\n",
    "    for row in reader:\n",
    "        if row['Type'] == 0:\n",
    "            continue\n",
    "        name = row[\"Name\"]\n",
    "        if name in exon_names:\n",
    "            continue  # skip duplicates\n",
    "        else:\n",
    "            exon_names.add(name)\n",
    "        exon_n = row[\"ExonNumber\"]\n",
    "        exon_count = row[\"NumExons\"]\n",
    "        print(name + \": \" + exon_n +\"/\" + exon_count)\n",
    "        exon_list.append(Exon(row=row))\n",
    "print(f\"Extracted {len(exon_list)} Exons\")"
   ]
  },
  {
   "cell_type": "markdown",
   "id": "fb1596bb",
   "metadata": {},
   "source": [
    "<h3>Get splice site sequences</h3>"
   ]
  },
  {
   "cell_type": "code",
   "execution_count": null,
   "id": "761a1d67",
   "metadata": {},
   "outputs": [],
   "source": [
    "fasta = FASTA(hg38)\n",
    "fasta_ids = fasta.ids  # e.g., chr4\n",
    "sequences = fasta.sequences  # BioPython SeqRecord objects"
   ]
  },
  {
   "cell_type": "code",
   "execution_count": null,
   "id": "9aa53c08",
   "metadata": {},
   "outputs": [],
   "source": [
    "# sort the target exons by chromosome\n",
    "chrom_to_exonlist_d = defaultdict(list)\n",
    "for exon in exon_list:\n",
    "    chrom = exon.chrom()\n",
    "    chrom_to_exonlist_d[chrom].append(exon)\n",
    "print(f\"Extracted exons on {len(chrom_to_exonlist_d)} chromosomes\")"
   ]
  },
  {
   "cell_type": "code",
   "execution_count": null,
   "id": "462a4c47",
   "metadata": {},
   "outputs": [],
   "source": [
    "for chromosome, exons in chrom_to_exonlist_d.items():\n",
    "    chrom_sequence = sequences.get(chromosome)\n",
    "    if chrom_sequence is None:\n",
    "        raise ValueError(f\"Could not retrieve sequence for {chromosome}\")\n",
    "    for exon in exons:\n",
    "        if exon.is_pos_strand():\n",
    "            print(\"is pos\")\n",
    "            # get 5 prime sequence\n",
    "        else:\n",
    "            print(\"is neg\")\n",
    "        "
   ]
  },
  {
   "cell_type": "code",
   "execution_count": null,
   "id": "dd208fbf",
   "metadata": {},
   "outputs": [],
   "source": []
  }
 ],
 "metadata": {
  "kernelspec": {
   "display_name": "splenv",
   "language": "python",
   "name": "splenv"
  },
  "language_info": {
   "codemirror_mode": {
    "name": "ipython",
    "version": 3
   },
   "file_extension": ".py",
   "mimetype": "text/x-python",
   "name": "python",
   "nbconvert_exporter": "python",
   "pygments_lexer": "ipython3",
   "version": "3.10.9"
  }
 },
 "nbformat": 4,
 "nbformat_minor": 5
}
